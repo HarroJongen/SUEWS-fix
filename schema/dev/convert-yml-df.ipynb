{
 "cells": [
  {
   "cell_type": "code",
   "execution_count": 1,
   "metadata": {},
   "outputs": [],
   "source": [
    "# import supy as sp\n",
    "import pandas as pd\n",
    "import pydantic as pdt\n",
    "\n",
    "# %load_ext autoreload\n",
    "# %autoreload 2\n"
   ]
  },
  {
   "cell_type": "code",
   "execution_count": null,
   "metadata": {},
   "outputs": [],
   "source": [
    "df_state,df_forcing=sp.load_SampleData()"
   ]
  },
  {
   "cell_type": "code",
   "execution_count": null,
   "metadata": {},
   "outputs": [],
   "source": [
    "# export columns to a file for mapping use\n",
    "with open('df_state_columns.txt', 'w') as f:\n",
    "    f.write('\\n'.join([f'{col[0]},{col[1]}' for col in df_state.columns]))\n",
    "# df_state.filter(like='snow').columns"
   ]
  },
  {
   "cell_type": "code",
   "execution_count": null,
   "metadata": {},
   "outputs": [],
   "source": [
    "df_state.columns.levels[0]"
   ]
  },
  {
   "cell_type": "code",
   "execution_count": 3,
   "metadata": {},
   "outputs": [],
   "source": [
    "\n",
    "import yaml\n",
    "import pandas as pd\n",
    "from def_config_suews import SUEWSConfig\n",
    "\n",
    "\n",
    "# Load YAML config\n",
    "with open('./config-suews.yml', 'r') as file:\n",
    "    yaml_config = yaml.safe_load(file)\n",
    "\n",
    "\n",
    "# Create SUEWSConfig object\n",
    "suews_config = SUEWSConfig(**yaml_config[0])\n",
    "# suews_config.site[0].properties"
   ]
  },
  {
   "cell_type": "code",
   "execution_count": 5,
   "metadata": {},
   "outputs": [],
   "source": [
    "# def create_multi_index_columns(columns_file: str) -> pd.MultiIndex:\n",
    "#     \"\"\"Create MultiIndex from df_state_columns.txt\"\"\"\n",
    "#     with open(columns_file, \"r\") as f:\n",
    "#             lines = f.readlines()\n",
    "\n",
    "#     tuples = []\n",
    "#     for line in lines:\n",
    "#         col_name, indices = line.strip().split(\",\", 1)\n",
    "#         str_indices = f\"{indices}\" if indices != \"0\" else \"0\"\n",
    "#         tuples.append((col_name, str_indices))\n",
    "#         # if indices == \"0\":\n",
    "#         #     tuples.append((col_name, 0))\n",
    "#         # else:\n",
    "#         #     # Convert string tuple to actual tuple\n",
    "#         #     indices = eval(indices)\n",
    "#         #     if isinstance(indices, int):\n",
    "#         #         indices = (indices,)\n",
    "#         #     tuples.append((col_name, *indices))\n",
    "\n",
    "#     return pd.MultiIndex.from_tuples(tuples)\n",
    "\n",
    "# columns = create_multi_index_columns('df_state_columns.txt')\n",
    "# df_state_test = pd.DataFrame(index=[0], columns=columns)\n",
    "# df_state_test.filter(like='snow').columns"
   ]
  },
  {
   "cell_type": "code",
   "execution_count": null,
   "metadata": {},
   "outputs": [],
   "source": [
    "\n",
    "# # Convert to DataFrame\n",
    "df_state_test = suews_config.to_df_state()\n",
    "df_state_test\n",
    "\n",
    "# # Convert back to SUEWSConfig\n",
    "# suews_config_from_df = SUEWSConfig.from_df_state(df_state)\n",
    "\n",
    "# # Convert back to DataFrame for comparison\n",
    "# df_state_2 = suews_config_from_df.to_df_state()\n",
    "\n",
    "# # Compare DataFrames\n",
    "# pd.testing.assert_frame_equal(df_state, df_state_2)\n",
    "\n",
    "# print(\"Conversion test passed successfully.\")\n"
   ]
  },
  {
   "cell_type": "code",
   "execution_count": null,
   "metadata": {},
   "outputs": [],
   "source": [
    "\n",
    "import yaml\n",
    "import pandas as pd\n",
    "from def_config_suews import SUEWSConfig\n",
    "\n",
    "\n",
    "# Load YAML config\n",
    "with open('./config-suews.yml', 'r') as file:\n",
    "    yaml_config = yaml.safe_load(file)\n",
    "\n",
    "\n",
    "# Create SUEWSConfig object\n",
    "suews_config = SUEWSConfig(**yaml_config[0])\n",
    "# suews_config.site[0].properties\n",
    "\n",
    "# Convert to DataFrame\n",
    "df_state_test = suews_config.to_df_state()\n",
    "# df_state_test\n",
    "\n",
    "# Create SUEWSConfig object\n",
    "suews_config = SUEWSConfig(**yaml_config[0])\n",
    "# suews_config.site[0].properties\n",
    "\n",
    "# Get the column differences\n",
    "df_state_cols = set(df_state.columns)\n",
    "df_test_cols = set(df_state_test.columns)\n",
    "\n",
    "# print(\"Columns only in df_state:\")\n",
    "# print(sorted(df_state_cols - df_test_cols))\n",
    "\n",
    "# print(\"\\nColumns only in df_state_test:\")\n",
    "# print(sorted(df_test_cols - df_state_cols))\n",
    "\n",
    "df_state.compare(df_state_test).filter(like='method')\n",
    "\n",
    "\n"
   ]
  },
  {
   "cell_type": "code",
   "execution_count": null,
   "metadata": {},
   "outputs": [],
   "source": []
  },
  {
   "cell_type": "code",
   "execution_count": null,
   "metadata": {},
   "outputs": [],
   "source": [
    "# Find columns present in both DataFrames\n",
    "common_cols = set(df_state.columns).intersection(set(df_state_test.columns))\n",
    "\n",
    "# Compare values in common columns\n",
    "diff_cols = []\n",
    "for col in common_cols:\n",
    "    if not df_state[col].eq(df_state_test[col]):\n",
    "        diff_cols.append(col)\n",
    "\n",
    "print(\"Columns with different values:\")\n",
    "for col in sorted(diff_cols):\n",
    "    # Skip certain parameter groups\n",
    "    if col[0].startswith(('ah', 'air', 'baset','ohm_')):\n",
    "        continue\n",
    "\n",
    "    # Handle specific cases\n",
    "    if col[0].startswith(('sfr_')):\n",
    "        # do look at certain columns\n",
    "        print(f\"\\n{col}:\")\n",
    "        print(\"\\ndf_state:\")\n",
    "        print(df_state[col])\n",
    "        print(\"\\ndf_state_test:\")\n",
    "        print(df_state_test[col])\n",
    "        print(\"\\n\" + \"-\"*50)\n",
    "    # print(f\"\\n{col}:\")\n",
    "    # print(\"\\ndf_state:\")\n",
    "    # print(df_state[col])\n",
    "    # print(\"\\ndf_state_test:\")\n",
    "    # print(df_state_test[col])\n",
    "    # print(\"\\n\" + \"-\"*50)\n",
    "\n"
   ]
  },
  {
   "cell_type": "code",
   "execution_count": null,
   "metadata": {},
   "outputs": [],
   "source": [
    "suews_config.site[0].properties.land_cover.dectr.min_res_bioco2"
   ]
  },
  {
   "cell_type": "code",
   "execution_count": null,
   "metadata": {},
   "outputs": [],
   "source": [
    "col='height'\n",
    "df_state.filter(like=col)\n",
    "df_state_test.filter(like=col)\n"
   ]
  },
  {
   "cell_type": "code",
   "execution_count": null,
   "metadata": {},
   "outputs": [],
   "source": [
    "# df_state_test.isna()\n",
    "# Get columns with any NA values\n",
    "na_cols = df_state_test.columns[df_state_test.isna().any()].tolist()\n",
    "\n",
    "# Sort and print the column names\n",
    "print(f\"{len(na_cols)} Columns containing NA values:\")\n",
    "for col in sorted(na_cols):\n",
    "    print(col)\n",
    "\n"
   ]
  },
  {
   "cell_type": "code",
   "execution_count": null,
   "metadata": {},
   "outputs": [],
   "source": [
    "df_state.filter(like='albdectr_id').columns"
   ]
  },
  {
   "cell_type": "code",
   "execution_count": null,
   "metadata": {},
   "outputs": [],
   "source": [
    "df_state_test.filter(like='air_ext_lw')"
   ]
  },
  {
   "cell_type": "code",
   "execution_count": 10,
   "metadata": {},
   "outputs": [],
   "source": [
    "df_state.to_pickle('df_state.pkl')"
   ]
  },
  {
   "cell_type": "code",
   "execution_count": null,
   "metadata": {},
   "outputs": [],
   "source": [
    "df_state_test = pd.read_pickle('df_state_test.pkl')\n",
    "df_state_test.filter(like='irrfrac')\n"
   ]
  },
  {
   "cell_type": "code",
   "execution_count": null,
   "metadata": {},
   "outputs": [],
   "source": [
    "df_state.index"
   ]
  },
  {
   "cell_type": "code",
   "execution_count": null,
   "metadata": {},
   "outputs": [],
   "source": [
    "df_state_test=pd.read_pickle('df_state_test.pkl')\n",
    "df_state_test.columns.set_names(['var','ind_dim'],inplace=True)\n",
    "df_state_test.columns\n",
    "df_state_test.index.set_names(['grid'],inplace=True)\n",
    "df_state_test.index\n",
    "\n"
   ]
  },
  {
   "cell_type": "code",
   "execution_count": null,
   "metadata": {},
   "outputs": [],
   "source": [
    "sp.run_supy(df_forcing, df_state_test)"
   ]
  },
  {
   "cell_type": "code",
   "execution_count": 43,
   "metadata": {},
   "outputs": [],
   "source": [
    "from def_config_suews import SurfaceProperties, StorageDrainParams, ThermalLayer\n",
    "\n",
    "basic_surface_properties = SurfaceProperties(storedrainprm=StorageDrainParams(), thermal_layers=ThermalLayer(),)\n"
   ]
  },
  {
   "cell_type": "code",
   "execution_count": null,
   "metadata": {},
   "outputs": [],
   "source": [
    "df_state.filter(like='alb')\n",
    "df_state.filter(like='alb').filter(like='id')"
   ]
  },
  {
   "cell_type": "code",
   "execution_count": null,
   "metadata": {},
   "outputs": [],
   "source": [
    "df_state.filter(like='roof').columns.remove_unused_levels().levels[0]\n",
    "# df_state.filter(like='wall')\n",
    "\n"
   ]
  },
  {
   "cell_type": "code",
   "execution_count": null,
   "metadata": {},
   "outputs": [],
   "source": [
    "df_state.filter(like='albmax')\n",
    "df_state.filter(like='albmin')"
   ]
  },
  {
   "cell_type": "code",
   "execution_count": null,
   "metadata": {},
   "outputs": [],
   "source": [
    "df_state=pd.read_pickle('df_state.pkl')\n",
    "df_state.filter(like='alpha_bioco2')\n",
    "df_state.filter(like='tsfc')"
   ]
  },
  {
   "cell_type": "code",
   "execution_count": null,
   "metadata": {},
   "outputs": [],
   "source": [
    "df_state=pd.read_pickle('df_state.pkl')\n",
    "df_state.filter(like='flowchange')\n",
    "# df_state.filter(like='tsfc')\n"
   ]
  },
  {
   "cell_type": "code",
   "execution_count": 62,
   "metadata": {},
   "outputs": [
    {
     "name": "stdout",
     "output_type": "stream",
     "text": [
      "The autoreload extension is already loaded. To reload it, use:\n",
      "  %reload_ext autoreload\n"
     ]
    },
    {
     "data": {
      "text/html": [
       "<div>\n",
       "<style scoped>\n",
       "    .dataframe tbody tr th:only-of-type {\n",
       "        vertical-align: middle;\n",
       "    }\n",
       "\n",
       "    .dataframe tbody tr th {\n",
       "        vertical-align: top;\n",
       "    }\n",
       "\n",
       "    .dataframe thead tr th {\n",
       "        text-align: left;\n",
       "    }\n",
       "\n",
       "    .dataframe thead tr:last-of-type th {\n",
       "        text-align: right;\n",
       "    }\n",
       "</style>\n",
       "<table border=\"1\" class=\"dataframe\">\n",
       "  <thead>\n",
       "    <tr>\n",
       "      <th>var</th>\n",
       "      <th>grid_iv</th>\n",
       "      <th>baset</th>\n",
       "      <th>gddfull</th>\n",
       "      <th>basete</th>\n",
       "      <th>sddfull</th>\n",
       "      <th>laimin</th>\n",
       "      <th>laimax</th>\n",
       "      <th>laitype</th>\n",
       "      <th colspan=\"4\" halign=\"left\">laipower</th>\n",
       "    </tr>\n",
       "    <tr>\n",
       "      <th>ind_dim</th>\n",
       "      <th>0</th>\n",
       "      <th>(-1,)</th>\n",
       "      <th>(-1,)</th>\n",
       "      <th>(-1,)</th>\n",
       "      <th>(-1,)</th>\n",
       "      <th>(-1,)</th>\n",
       "      <th>(-1,)</th>\n",
       "      <th>(-1,)</th>\n",
       "      <th>(0, -1)</th>\n",
       "      <th>(1, -1)</th>\n",
       "      <th>(2, -1)</th>\n",
       "      <th>(3, -1)</th>\n",
       "    </tr>\n",
       "    <tr>\n",
       "      <th>grid</th>\n",
       "      <th></th>\n",
       "      <th></th>\n",
       "      <th></th>\n",
       "      <th></th>\n",
       "      <th></th>\n",
       "      <th></th>\n",
       "      <th></th>\n",
       "      <th></th>\n",
       "      <th></th>\n",
       "      <th></th>\n",
       "      <th></th>\n",
       "      <th></th>\n",
       "    </tr>\n",
       "  </thead>\n",
       "  <tbody>\n",
       "    <tr>\n",
       "      <th>2</th>\n",
       "      <td>2</td>\n",
       "      <td>20.0</td>\n",
       "      <td>100.0</td>\n",
       "      <td>15.0</td>\n",
       "      <td>100.0</td>\n",
       "      <td>0.1</td>\n",
       "      <td>2.0</td>\n",
       "      <td>1.0</td>\n",
       "      <td>0.2</td>\n",
       "      <td>0.3</td>\n",
       "      <td>0.2</td>\n",
       "      <td>0.3</td>\n",
       "    </tr>\n",
       "  </tbody>\n",
       "</table>\n",
       "</div>"
      ],
      "text/plain": [
       "var     grid_iv baset gddfull basete sddfull laimin laimax laitype laipower  \\\n",
       "ind_dim       0 (-1,)   (-1,)  (-1,)   (-1,)  (-1,)  (-1,)   (-1,)  (0, -1)   \n",
       "grid                                                                          \n",
       "2             2  20.0   100.0   15.0   100.0    0.1    2.0     1.0      0.2   \n",
       "\n",
       "var                              \n",
       "ind_dim (1, -1) (2, -1) (3, -1)  \n",
       "grid                             \n",
       "2           0.3     0.2     0.3  "
      ]
     },
     "execution_count": 62,
     "metadata": {},
     "output_type": "execute_result"
    }
   ],
   "source": [
    "\n",
    "import yaml\n",
    "import pandas as pd\n",
    "from def_config_suews import SUEWSConfig,init_df_state\n",
    "\n",
    "%load_ext autoreload\n",
    "%autoreload 2\n",
    "\n",
    "\n",
    "# Load YAML config\n",
    "with open('./config-suews.yml', 'r') as file:\n",
    "    yaml_config = yaml.safe_load(file)\n",
    "\n",
    "\n",
    "# Create SUEWSConfig object\n",
    "suews_config = SUEWSConfig(**yaml_config[0])\n",
    "suews_config.site[0].properties.land_cover.dectr.lai.to_df_state(2,2)\n",
    "# suews_config.site[0].properties.land_cover.dectr.to_df_state(0).filter(like='lai')\n",
    "# suews_config.site[0].initial_states.dectr.wu.to_df_state(0)\n",
    "\n",
    "\n",
    "\n",
    "# from def_config_suews import SurfaceProperties, SurfaceType\n",
    "# sfc_props = SurfaceProperties()\n",
    "# sfc_props.set_surface_type(SurfaceType.PAVED)\n",
    "# sfc_props.to_df_state(0)\n"
   ]
  },
  {
   "cell_type": "code",
   "execution_count": 19,
   "metadata": {},
   "outputs": [
    {
     "data": {
      "text/html": [
       "<div>\n",
       "<style scoped>\n",
       "    .dataframe tbody tr th:only-of-type {\n",
       "        vertical-align: middle;\n",
       "    }\n",
       "\n",
       "    .dataframe tbody tr th {\n",
       "        vertical-align: top;\n",
       "    }\n",
       "\n",
       "    .dataframe thead tr th {\n",
       "        text-align: left;\n",
       "    }\n",
       "\n",
       "    .dataframe thead tr:last-of-type th {\n",
       "        text-align: right;\n",
       "    }\n",
       "</style>\n",
       "<table border=\"1\" class=\"dataframe\">\n",
       "  <thead>\n",
       "    <tr>\n",
       "      <th>var</th>\n",
       "      <th>grid_iv</th>\n",
       "      <th>tstep</th>\n",
       "      <th>diagnose</th>\n",
       "    </tr>\n",
       "    <tr>\n",
       "      <th>ind_dim</th>\n",
       "      <th>0</th>\n",
       "      <th>0</th>\n",
       "      <th>0</th>\n",
       "    </tr>\n",
       "    <tr>\n",
       "      <th>grid</th>\n",
       "      <th></th>\n",
       "      <th></th>\n",
       "      <th></th>\n",
       "    </tr>\n",
       "  </thead>\n",
       "  <tbody>\n",
       "    <tr>\n",
       "      <th>0</th>\n",
       "      <td>0</td>\n",
       "      <td>300.0</td>\n",
       "      <td>0.0</td>\n",
       "    </tr>\n",
       "  </tbody>\n",
       "</table>\n",
       "</div>"
      ],
      "text/plain": [
       "var     grid_iv  tstep diagnose\n",
       "ind_dim       0      0        0\n",
       "grid                           \n",
       "0             0  300.0      0.0"
      ]
     },
     "execution_count": 19,
     "metadata": {},
     "output_type": "execute_result"
    },
    {
     "data": {
      "text/html": [
       "<div>\n",
       "<style scoped>\n",
       "    .dataframe tbody tr th:only-of-type {\n",
       "        vertical-align: middle;\n",
       "    }\n",
       "\n",
       "    .dataframe tbody tr th {\n",
       "        vertical-align: top;\n",
       "    }\n",
       "\n",
       "    .dataframe thead tr th {\n",
       "        text-align: left;\n",
       "    }\n",
       "\n",
       "    .dataframe thead tr:last-of-type th {\n",
       "        text-align: right;\n",
       "    }\n",
       "</style>\n",
       "<table border=\"1\" class=\"dataframe\">\n",
       "  <thead>\n",
       "    <tr>\n",
       "      <th>var</th>\n",
       "      <th>grid_iv</th>\n",
       "      <th>netradiationmethod</th>\n",
       "      <th>emissionsmethod</th>\n",
       "      <th>storageheatmethod</th>\n",
       "      <th>ohmincqf</th>\n",
       "      <th>roughlenmommethod</th>\n",
       "      <th>roughlenheatmethod</th>\n",
       "      <th>stabilitymethod</th>\n",
       "      <th>smdmethod</th>\n",
       "      <th>waterusemethod</th>\n",
       "      <th>diagmethod</th>\n",
       "      <th>faimethod</th>\n",
       "      <th>localclimatemethod</th>\n",
       "      <th>snowuse</th>\n",
       "    </tr>\n",
       "    <tr>\n",
       "      <th>ind_dim</th>\n",
       "      <th>0</th>\n",
       "      <th>0</th>\n",
       "      <th>0</th>\n",
       "      <th>0</th>\n",
       "      <th>0</th>\n",
       "      <th>0</th>\n",
       "      <th>0</th>\n",
       "      <th>0</th>\n",
       "      <th>0</th>\n",
       "      <th>0</th>\n",
       "      <th>0</th>\n",
       "      <th>0</th>\n",
       "      <th>0</th>\n",
       "      <th>0</th>\n",
       "    </tr>\n",
       "    <tr>\n",
       "      <th>grid</th>\n",
       "      <th></th>\n",
       "      <th></th>\n",
       "      <th></th>\n",
       "      <th></th>\n",
       "      <th></th>\n",
       "      <th></th>\n",
       "      <th></th>\n",
       "      <th></th>\n",
       "      <th></th>\n",
       "      <th></th>\n",
       "      <th></th>\n",
       "      <th></th>\n",
       "      <th></th>\n",
       "      <th></th>\n",
       "    </tr>\n",
       "  </thead>\n",
       "  <tbody>\n",
       "    <tr>\n",
       "      <th>0</th>\n",
       "      <td>0</td>\n",
       "      <td>3.0</td>\n",
       "      <td>2.0</td>\n",
       "      <td>1.0</td>\n",
       "      <td>1.0</td>\n",
       "      <td>2.0</td>\n",
       "      <td>2.0</td>\n",
       "      <td>3.0</td>\n",
       "      <td>0.0</td>\n",
       "      <td>0.0</td>\n",
       "      <td>2.0</td>\n",
       "      <td>0.0</td>\n",
       "      <td>0.0</td>\n",
       "      <td>0.0</td>\n",
       "    </tr>\n",
       "  </tbody>\n",
       "</table>\n",
       "</div>"
      ],
      "text/plain": [
       "var     grid_iv netradiationmethod emissionsmethod storageheatmethod ohmincqf  \\\n",
       "ind_dim       0                  0               0                 0        0   \n",
       "grid                                                                            \n",
       "0             0                3.0             2.0               1.0      1.0   \n",
       "\n",
       "var     roughlenmommethod roughlenheatmethod stabilitymethod smdmethod  \\\n",
       "ind_dim                 0                  0               0         0   \n",
       "grid                                                                     \n",
       "0                     2.0                2.0             3.0       0.0   \n",
       "\n",
       "var     waterusemethod diagmethod faimethod localclimatemethod snowuse  \n",
       "ind_dim              0          0         0                  0       0  \n",
       "grid                                                                    \n",
       "0                  0.0        2.0       0.0                0.0     0.0  "
      ]
     },
     "execution_count": 19,
     "metadata": {},
     "output_type": "execute_result"
    }
   ],
   "source": [
    "suews_config.model.control.to_df_state(0)\n",
    "suews_config.model.physics.to_df_state(0)"
   ]
  },
  {
   "cell_type": "code",
   "execution_count": 60,
   "metadata": {},
   "outputs": [
    {
     "data": {
      "text/html": [
       "<div>\n",
       "<style scoped>\n",
       "    .dataframe tbody tr th:only-of-type {\n",
       "        vertical-align: middle;\n",
       "    }\n",
       "\n",
       "    .dataframe tbody tr th {\n",
       "        vertical-align: top;\n",
       "    }\n",
       "\n",
       "    .dataframe thead tr th {\n",
       "        text-align: left;\n",
       "    }\n",
       "\n",
       "    .dataframe thead tr:last-of-type th {\n",
       "        text-align: right;\n",
       "    }\n",
       "</style>\n",
       "<table border=\"1\" class=\"dataframe\">\n",
       "  <thead>\n",
       "    <tr>\n",
       "      <th>var</th>\n",
       "      <th colspan=\"3\" halign=\"left\">laimax</th>\n",
       "      <th colspan=\"3\" halign=\"left\">laimin</th>\n",
       "      <th colspan=\"9\" halign=\"left\">laipower</th>\n",
       "      <th colspan=\"3\" halign=\"left\">laitype</th>\n",
       "      <th colspan=\"3\" halign=\"left\">lai_id</th>\n",
       "    </tr>\n",
       "    <tr>\n",
       "      <th>ind_dim</th>\n",
       "      <th>(0,)</th>\n",
       "      <th>(1,)</th>\n",
       "      <th>(2,)</th>\n",
       "      <th>(0,)</th>\n",
       "      <th>(1,)</th>\n",
       "      <th>(2,)</th>\n",
       "      <th>(0, 0)</th>\n",
       "      <th>(0, 1)</th>\n",
       "      <th>(0, 2)</th>\n",
       "      <th>(1, 0)</th>\n",
       "      <th>...</th>\n",
       "      <th>(2, 2)</th>\n",
       "      <th>(3, 0)</th>\n",
       "      <th>(3, 1)</th>\n",
       "      <th>(3, 2)</th>\n",
       "      <th>(0,)</th>\n",
       "      <th>(1,)</th>\n",
       "      <th>(2,)</th>\n",
       "      <th>(0,)</th>\n",
       "      <th>(1,)</th>\n",
       "      <th>(2,)</th>\n",
       "    </tr>\n",
       "    <tr>\n",
       "      <th>grid</th>\n",
       "      <th></th>\n",
       "      <th></th>\n",
       "      <th></th>\n",
       "      <th></th>\n",
       "      <th></th>\n",
       "      <th></th>\n",
       "      <th></th>\n",
       "      <th></th>\n",
       "      <th></th>\n",
       "      <th></th>\n",
       "      <th></th>\n",
       "      <th></th>\n",
       "      <th></th>\n",
       "      <th></th>\n",
       "      <th></th>\n",
       "      <th></th>\n",
       "      <th></th>\n",
       "      <th></th>\n",
       "      <th></th>\n",
       "      <th></th>\n",
       "      <th></th>\n",
       "    </tr>\n",
       "  </thead>\n",
       "  <tbody>\n",
       "    <tr>\n",
       "      <th>1</th>\n",
       "      <td>5.1</td>\n",
       "      <td>5.5</td>\n",
       "      <td>5.9</td>\n",
       "      <td>4.0</td>\n",
       "      <td>1.0</td>\n",
       "      <td>1.6</td>\n",
       "      <td>0.04</td>\n",
       "      <td>0.04</td>\n",
       "      <td>0.04</td>\n",
       "      <td>0.001</td>\n",
       "      <td>...</td>\n",
       "      <td>-1.5</td>\n",
       "      <td>0.0015</td>\n",
       "      <td>0.0015</td>\n",
       "      <td>0.0015</td>\n",
       "      <td>1.0</td>\n",
       "      <td>1.0</td>\n",
       "      <td>1.0</td>\n",
       "      <td>4.0</td>\n",
       "      <td>1.0</td>\n",
       "      <td>1.6</td>\n",
       "    </tr>\n",
       "  </tbody>\n",
       "</table>\n",
       "<p>1 rows × 24 columns</p>\n",
       "</div>"
      ],
      "text/plain": [
       "var     laimax           laimin           laipower                       ...  \\\n",
       "ind_dim   (0,) (1,) (2,)   (0,) (1,) (2,)   (0, 0) (0, 1) (0, 2) (1, 0)  ...   \n",
       "grid                                                                     ...   \n",
       "1          5.1  5.5  5.9    4.0  1.0  1.6     0.04   0.04   0.04  0.001  ...   \n",
       "\n",
       "var                                    laitype           lai_id            \n",
       "ind_dim (2, 2)  (3, 0)  (3, 1)  (3, 2)    (0,) (1,) (2,)   (0,) (1,) (2,)  \n",
       "grid                                                                       \n",
       "1         -1.5  0.0015  0.0015  0.0015     1.0  1.0  1.0    4.0  1.0  1.6  \n",
       "\n",
       "[1 rows x 24 columns]"
      ]
     },
     "execution_count": 60,
     "metadata": {},
     "output_type": "execute_result"
    }
   ],
   "source": [
    "df_state=pd.read_pickle('df_state.pkl')\n",
    "df_state.filter(like='lai')"
   ]
  },
  {
   "cell_type": "code",
   "execution_count": 24,
   "metadata": {},
   "outputs": [
    {
     "data": {
      "text/plain": [
       "SurfaceInitialState(state=10.0, soilstore=100.0, snowfrac=0.0, snowpack=0.0, icefrac=0.0, snowwater=1.0, snowdens=1.0, alb_id=None, porosity_id=None, decidcap_id=None, lai_id=None, gdd_id=None, sdd_id=None, temperature=[20.0, 19.0, 18.0, 17.0, 16.0], tsfc=10.0, tin=10.0, wu=None)"
      ]
     },
     "execution_count": 24,
     "metadata": {},
     "output_type": "execute_result"
    }
   ],
   "source": []
  },
  {
   "cell_type": "code",
   "execution_count": null,
   "metadata": {},
   "outputs": [],
   "source": []
  }
 ],
 "metadata": {
  "kernelspec": {
   "display_name": "suews-dev",
   "language": "python",
   "name": "python3"
  },
  "language_info": {
   "codemirror_mode": {
    "name": "ipython",
    "version": 3
   },
   "file_extension": ".py",
   "mimetype": "text/x-python",
   "name": "python",
   "nbconvert_exporter": "python",
   "pygments_lexer": "ipython3",
   "version": "3.12.7"
  }
 },
 "nbformat": 4,
 "nbformat_minor": 2
}
