{
 "cells": [
  {
   "cell_type": "code",
   "execution_count": 1,
   "metadata": {},
   "outputs": [],
   "source": [
    "# import supy as sp\n",
    "import pandas as pd\n",
    "import pydantic as pdt\n",
    "\n",
    "#%load_ext autoreload\n",
    "#%autoreload 2\n"
   ]
  },
  {
   "cell_type": "code",
   "execution_count": 3,
   "metadata": {},
   "outputs": [
    {
     "ename": "NameError",
     "evalue": "name 'sp' is not defined",
     "output_type": "error",
     "traceback": [
      "\u001b[0;31m---------------------------------------------------------------------------\u001b[0m",
      "\u001b[0;31mNameError\u001b[0m                                 Traceback (most recent call last)",
      "Cell \u001b[0;32mIn[3], line 1\u001b[0m\n\u001b[0;32m----> 1\u001b[0m df_state,df_forcing\u001b[38;5;241m=\u001b[39m\u001b[43msp\u001b[49m\u001b[38;5;241m.\u001b[39mload_SampleData()\n",
      "\u001b[0;31mNameError\u001b[0m: name 'sp' is not defined"
     ]
    }
   ],
   "source": [
    "df_state,df_forcing=sp.load_SampleData()"
   ]
  },
  {
   "cell_type": "code",
   "execution_count": null,
   "metadata": {},
   "outputs": [],
   "source": [
    "# export columns to a file for mapping use\n",
    "with open('df_state_columns.txt', 'w') as f:\n",
    "    f.write('\\n'.join([f'{col[0]},{col[1]}' for col in df_state.columns]))\n",
    "# df_state.filter(like='snow').columns"
   ]
  },
  {
   "cell_type": "code",
   "execution_count": null,
   "metadata": {},
   "outputs": [],
   "source": [
    "df_state.columns.levels[0]"
   ]
  },
  {
   "cell_type": "code",
   "execution_count": 4,
   "metadata": {},
   "outputs": [],
   "source": [
    "\n",
    "import yaml\n",
    "import pandas as pd\n",
    "from def_config_suews import SUEWSConfig\n",
    "\n",
    "\n",
    "# Load YAML config\n",
    "with open('./config-suews.yml', 'r') as file:\n",
    "    yaml_config = yaml.safe_load(file)\n",
    "\n",
    "\n",
    "# Create SUEWSConfig object\n",
    "suews_config = SUEWSConfig(**yaml_config[0])\n",
    "# suews_config.site[0].properties"
   ]
  },
  {
   "cell_type": "code",
   "execution_count": 5,
   "metadata": {},
   "outputs": [],
   "source": [
    "# def create_multi_index_columns(columns_file: str) -> pd.MultiIndex:\n",
    "#     \"\"\"Create MultiIndex from df_state_columns.txt\"\"\"\n",
    "#     with open(columns_file, \"r\") as f:\n",
    "#             lines = f.readlines()\n",
    "\n",
    "#     tuples = []\n",
    "#     for line in lines:\n",
    "#         col_name, indices = line.strip().split(\",\", 1)\n",
    "#         str_indices = f\"{indices}\" if indices != \"0\" else \"0\"\n",
    "#         tuples.append((col_name, str_indices))\n",
    "#         # if indices == \"0\":\n",
    "#         #     tuples.append((col_name, 0))\n",
    "#         # else:\n",
    "#         #     # Convert string tuple to actual tuple\n",
    "#         #     indices = eval(indices)\n",
    "#         #     if isinstance(indices, int):\n",
    "#         #         indices = (indices,)\n",
    "#         #     tuples.append((col_name, *indices))\n",
    "\n",
    "#     return pd.MultiIndex.from_tuples(tuples)\n",
    "\n",
    "# columns = create_multi_index_columns('df_state_columns.txt')\n",
    "# df_state_test = pd.DataFrame(index=[0], columns=columns)\n",
    "# df_state_test.filter(like='snow').columns"
   ]
  },
  {
   "cell_type": "code",
   "execution_count": 5,
   "metadata": {},
   "outputs": [
    {
     "name": "stdout",
     "output_type": "stream",
     "text": [
      "Target to_runoff not found in dist_targets\n",
      "Target to_soilstore not found in dist_targets\n"
     ]
    },
    {
     "ename": "AttributeError",
     "evalue": "'OHM_Coefficient_season_wetness' object has no attribute 'values'",
     "output_type": "error",
     "traceback": [
      "\u001b[0;31m---------------------------------------------------------------------------\u001b[0m",
      "\u001b[0;31mAttributeError\u001b[0m                            Traceback (most recent call last)",
      "Cell \u001b[0;32mIn[5], line 2\u001b[0m\n\u001b[1;32m      1\u001b[0m \u001b[38;5;66;03m# # Convert to DataFrame\u001b[39;00m\n\u001b[0;32m----> 2\u001b[0m df_state_test \u001b[38;5;241m=\u001b[39m \u001b[43msuews_config\u001b[49m\u001b[38;5;241;43m.\u001b[39;49m\u001b[43mto_df_state\u001b[49m\u001b[43m(\u001b[49m\u001b[43m)\u001b[49m\n\u001b[1;32m      3\u001b[0m df_state_test\n\u001b[1;32m      5\u001b[0m \u001b[38;5;66;03m# # Convert back to SUEWSConfig\u001b[39;00m\n\u001b[1;32m      6\u001b[0m \u001b[38;5;66;03m# suews_config_from_df = SUEWSConfig.from_df_state(df_state)\u001b[39;00m\n\u001b[1;32m      7\u001b[0m \n\u001b[0;32m   (...)\u001b[0m\n\u001b[1;32m     13\u001b[0m \n\u001b[1;32m     14\u001b[0m \u001b[38;5;66;03m# print(\"Conversion test passed successfully.\")\u001b[39;00m\n",
      "File \u001b[0;32m~/Documents/UrbanClimate/SUEWS/schema/dev/def_config_suews.py:2126\u001b[0m, in \u001b[0;36mSUEWSConfig.to_df_state\u001b[0;34m(self)\u001b[0m\n\u001b[1;32m   2122\u001b[0m \u001b[38;5;66;03m# OHM coefficients\u001b[39;00m\n\u001b[1;32m   2123\u001b[0m \u001b[38;5;28;01mif\u001b[39;00m surface\u001b[38;5;241m.\u001b[39mohm_coef:\n\u001b[1;32m   2124\u001b[0m     \u001b[38;5;28;01mfor\u001b[39;00m i, (a1, a2, a3) \u001b[38;5;129;01min\u001b[39;00m \u001b[38;5;28menumerate\u001b[39m(\n\u001b[1;32m   2125\u001b[0m         \u001b[38;5;28mzip\u001b[39m(\n\u001b[0;32m-> 2126\u001b[0m             \u001b[43msurface\u001b[49m\u001b[38;5;241;43m.\u001b[39;49m\u001b[43mohm_coef\u001b[49m\u001b[38;5;241;43m.\u001b[39;49m\u001b[43ma1\u001b[49m\u001b[38;5;241;43m.\u001b[39;49m\u001b[43mvalues\u001b[49m(),\n\u001b[1;32m   2127\u001b[0m             surface\u001b[38;5;241m.\u001b[39mohm_coef\u001b[38;5;241m.\u001b[39ma2\u001b[38;5;241m.\u001b[39mvalues(),\n\u001b[1;32m   2128\u001b[0m             surface\u001b[38;5;241m.\u001b[39mohm_coef\u001b[38;5;241m.\u001b[39ma3\u001b[38;5;241m.\u001b[39mvalues(),\n\u001b[1;32m   2129\u001b[0m         )\n\u001b[1;32m   2130\u001b[0m     ):\n\u001b[1;32m   2131\u001b[0m         set_df_value(\u001b[38;5;124m\"\u001b[39m\u001b[38;5;124mohm_coef\u001b[39m\u001b[38;5;124m\"\u001b[39m, (surf_idx, i, \u001b[38;5;241m0\u001b[39m), a1)\n\u001b[1;32m   2132\u001b[0m         set_df_value(\u001b[38;5;124m\"\u001b[39m\u001b[38;5;124mohm_coef\u001b[39m\u001b[38;5;124m\"\u001b[39m, (surf_idx, i, \u001b[38;5;241m1\u001b[39m), a2)\n",
      "File \u001b[0;32m/opt/anaconda3/envs/suews-dev-issue299/lib/python3.12/site-packages/pydantic/main.py:856\u001b[0m, in \u001b[0;36mBaseModel.__getattr__\u001b[0;34m(self, item)\u001b[0m\n\u001b[1;32m    853\u001b[0m     \u001b[38;5;28;01mreturn\u001b[39;00m \u001b[38;5;28msuper\u001b[39m()\u001b[38;5;241m.\u001b[39m\u001b[38;5;21m__getattribute__\u001b[39m(item)  \u001b[38;5;66;03m# Raises AttributeError if appropriate\u001b[39;00m\n\u001b[1;32m    854\u001b[0m \u001b[38;5;28;01melse\u001b[39;00m:\n\u001b[1;32m    855\u001b[0m     \u001b[38;5;66;03m# this is the current error\u001b[39;00m\n\u001b[0;32m--> 856\u001b[0m     \u001b[38;5;28;01mraise\u001b[39;00m \u001b[38;5;167;01mAttributeError\u001b[39;00m(\u001b[38;5;124mf\u001b[39m\u001b[38;5;124m'\u001b[39m\u001b[38;5;132;01m{\u001b[39;00m\u001b[38;5;28mtype\u001b[39m(\u001b[38;5;28mself\u001b[39m)\u001b[38;5;241m.\u001b[39m\u001b[38;5;18m__name__\u001b[39m\u001b[38;5;132;01m!r}\u001b[39;00m\u001b[38;5;124m object has no attribute \u001b[39m\u001b[38;5;132;01m{\u001b[39;00mitem\u001b[38;5;132;01m!r}\u001b[39;00m\u001b[38;5;124m'\u001b[39m)\n",
      "\u001b[0;31mAttributeError\u001b[0m: 'OHM_Coefficient_season_wetness' object has no attribute 'values'"
     ]
    }
   ],
   "source": [
    "\n",
    "# # Convert to DataFrame\n",
    "df_state_test = suews_config.to_df_state()\n",
    "df_state_test\n",
    "\n",
    "# # Convert back to SUEWSConfig\n",
    "# suews_config_from_df = SUEWSConfig.from_df_state(df_state)\n",
    "\n",
    "# # Convert back to DataFrame for comparison\n",
    "# df_state_2 = suews_config_from_df.to_df_state()\n",
    "\n",
    "# # Compare DataFrames\n",
    "# pd.testing.assert_frame_equal(df_state, df_state_2)\n",
    "\n",
    "# print(\"Conversion test passed successfully.\")\n"
   ]
  },
  {
   "cell_type": "code",
   "execution_count": null,
   "metadata": {},
   "outputs": [],
   "source": [
    "\n",
    "import yaml\n",
    "import pandas as pd\n",
    "from def_config_suews import SUEWSConfig\n",
    "\n",
    "\n",
    "# Load YAML config\n",
    "with open('./config-suews.yml', 'r') as file:\n",
    "    yaml_config = yaml.safe_load(file)\n",
    "\n",
    "\n",
    "# Create SUEWSConfig object\n",
    "suews_config = SUEWSConfig(**yaml_config[0])\n",
    "# suews_config.site[0].properties\n",
    "\n",
    "# Convert to DataFrame\n",
    "df_state_test = suews_config.to_df_state()\n",
    "# df_state_test\n",
    "\n",
    "# Create SUEWSConfig object\n",
    "suews_config = SUEWSConfig(**yaml_config[0])\n",
    "# suews_config.site[0].properties\n",
    "\n",
    "# Get the column differences\n",
    "df_state_cols = set(df_state.columns)\n",
    "df_test_cols = set(df_state_test.columns)\n",
    "\n",
    "# print(\"Columns only in df_state:\")\n",
    "# print(sorted(df_state_cols - df_test_cols))\n",
    "\n",
    "# print(\"\\nColumns only in df_state_test:\")\n",
    "# print(sorted(df_test_cols - df_state_cols))\n",
    "\n",
    "df_state.compare(df_state_test).filter(like='method')\n",
    "\n",
    "\n"
   ]
  },
  {
   "cell_type": "code",
   "execution_count": null,
   "metadata": {},
   "outputs": [],
   "source": []
  },
  {
   "cell_type": "code",
   "execution_count": null,
   "metadata": {},
   "outputs": [],
   "source": [
    "# Find columns present in both DataFrames\n",
    "common_cols = set(df_state.columns).intersection(set(df_state_test.columns))\n",
    "\n",
    "# Compare values in common columns\n",
    "diff_cols = []\n",
    "for col in common_cols:\n",
    "    if not df_state[col].eq(df_state_test[col]):\n",
    "        diff_cols.append(col)\n",
    "\n",
    "print(\"Columns with different values:\")\n",
    "for col in sorted(diff_cols):\n",
    "    # Skip certain parameter groups\n",
    "    if col[0].startswith(('ah', 'air', 'baset','ohm_')):\n",
    "        continue\n",
    "\n",
    "    # Handle specific cases\n",
    "    if col[0].startswith(('sfr_')):\n",
    "        # do look at certain columns\n",
    "        print(f\"\\n{col}:\")\n",
    "        print(\"\\ndf_state:\")\n",
    "        print(df_state[col])\n",
    "        print(\"\\ndf_state_test:\")\n",
    "        print(df_state_test[col])\n",
    "        print(\"\\n\" + \"-\"*50)\n",
    "    # print(f\"\\n{col}:\")\n",
    "    # print(\"\\ndf_state:\")\n",
    "    # print(df_state[col])\n",
    "    # print(\"\\ndf_state_test:\")\n",
    "    # print(df_state_test[col])\n",
    "    # print(\"\\n\" + \"-\"*50)\n",
    "\n"
   ]
  },
  {
   "cell_type": "code",
   "execution_count": null,
   "metadata": {},
   "outputs": [],
   "source": [
    "suews_config.site[0].properties.land_cover.dectr.min_res_bioco2"
   ]
  },
  {
   "cell_type": "code",
   "execution_count": null,
   "metadata": {},
   "outputs": [],
   "source": [
    "col='height'\n",
    "df_state.filter(like=col)\n",
    "df_state_test.filter(like=col)\n"
   ]
  },
  {
   "cell_type": "code",
   "execution_count": null,
   "metadata": {},
   "outputs": [],
   "source": [
    "# df_state_test.isna()\n",
    "# Get columns with any NA values\n",
    "na_cols = df_state_test.columns[df_state_test.isna().any()].tolist()\n",
    "\n",
    "# Sort and print the column names\n",
    "print(f\"{len(na_cols)} Columns containing NA values:\")\n",
    "for col in sorted(na_cols):\n",
    "    print(col)\n",
    "\n"
   ]
  },
  {
   "cell_type": "code",
   "execution_count": null,
   "metadata": {},
   "outputs": [],
   "source": [
    "df_state.filter(like='albdectr_id').columns"
   ]
  },
  {
   "cell_type": "code",
   "execution_count": null,
   "metadata": {},
   "outputs": [],
   "source": [
    "df_state_test.filter(like='air_ext_lw')"
   ]
  },
  {
   "cell_type": "code",
   "execution_count": 10,
   "metadata": {},
   "outputs": [],
   "source": [
    "df_state.to_pickle('df_state.pkl')"
   ]
  },
  {
   "cell_type": "code",
   "execution_count": null,
   "metadata": {},
   "outputs": [],
   "source": [
    "df_state_test = pd.read_pickle('df_state_test.pkl')\n",
    "df_state_test.filter(like='irrfrac')\n"
   ]
  },
  {
   "cell_type": "code",
   "execution_count": null,
   "metadata": {},
   "outputs": [],
   "source": [
    "df_state.index"
   ]
  },
  {
   "cell_type": "code",
   "execution_count": null,
   "metadata": {},
   "outputs": [],
   "source": [
    "df_state_test=pd.read_pickle('df_state_test.pkl')\n",
    "df_state_test.columns.set_names(['var','ind_dim'],inplace=True)\n",
    "df_state_test.columns\n",
    "df_state_test.index.set_names(['grid'],inplace=True)\n",
    "df_state_test.index\n",
    "\n"
   ]
  },
  {
   "cell_type": "code",
   "execution_count": null,
   "metadata": {},
   "outputs": [],
   "source": [
    "sp.run_supy(df_forcing, df_state_test)"
   ]
  },
  {
   "cell_type": "code",
   "execution_count": 43,
   "metadata": {},
   "outputs": [],
   "source": [
    "from def_config_suews import SurfaceProperties, StorageDrainParams, ThermalLayer\n",
    "\n",
    "basic_surface_properties = SurfaceProperties(storedrainprm=StorageDrainParams(), thermal_layers=ThermalLayer(),)\n"
   ]
  },
  {
   "cell_type": "code",
   "execution_count": null,
   "metadata": {},
   "outputs": [],
   "source": [
    "df_state.filter(like='alb')\n",
    "df_state.filter(like='alb').filter(like='id')"
   ]
  },
  {
   "cell_type": "code",
   "execution_count": null,
   "metadata": {},
   "outputs": [],
   "source": [
    "df_state.filter(like='roof').columns.remove_unused_levels().levels[0]\n",
    "# df_state.filter(like='wall')\n",
    "\n"
   ]
  },
  {
   "cell_type": "code",
   "execution_count": null,
   "metadata": {},
   "outputs": [],
   "source": [
    "df_state.filter(like='albmax')\n",
    "df_state.filter(like='albmin')"
   ]
  },
  {
   "cell_type": "code",
   "execution_count": null,
   "metadata": {},
   "outputs": [],
   "source": [
    "df_state=pd.read_pickle('df_state.pkl')\n",
    "df_state.filter(like='alpha_bioco2')\n",
    "df_state.filter(like='tsfc')"
   ]
  },
  {
   "cell_type": "code",
   "execution_count": null,
   "metadata": {},
   "outputs": [],
   "source": [
    "df_state=pd.read_pickle('df_state.pkl')\n",
    "df_state.filter(like='flowchange')\n",
    "# df_state.filter(like='tsfc')\n"
   ]
  },
  {
   "cell_type": "code",
   "execution_count": 10,
   "metadata": {},
   "outputs": [
    {
     "name": "stdout",
     "output_type": "stream",
     "text": [
      "The autoreload extension is already loaded. To reload it, use:\n",
      "  %reload_ext autoreload\n"
     ]
    },
    {
     "data": {
      "text/html": [
       "<div>\n",
       "<style scoped>\n",
       "    .dataframe tbody tr th:only-of-type {\n",
       "        vertical-align: middle;\n",
       "    }\n",
       "\n",
       "    .dataframe tbody tr th {\n",
       "        vertical-align: top;\n",
       "    }\n",
       "\n",
       "    .dataframe thead tr th {\n",
       "        text-align: left;\n",
       "    }\n",
       "\n",
       "    .dataframe thead tr:last-of-type th {\n",
       "        text-align: right;\n",
       "    }\n",
       "</style>\n",
       "<table border=\"1\" class=\"dataframe\">\n",
       "  <thead>\n",
       "    <tr>\n",
       "      <th>grid</th>\n",
       "    </tr>\n",
       "  </thead>\n",
       "  <tbody>\n",
       "    <tr>\n",
       "      <th>0</th>\n",
       "    </tr>\n",
       "  </tbody>\n",
       "</table>\n",
       "</div>"
      ],
      "text/plain": [
       "Empty DataFrame\n",
       "Columns: []\n",
       "Index: [0]"
      ]
     },
     "execution_count": 10,
     "metadata": {},
     "output_type": "execute_result"
    }
   ],
   "source": [
    "import yaml\n",
    "import pandas as pd\n",
    "from def_config_suews import SUEWSConfig,init_df_state\n",
    "\n",
    "%load_ext autoreload\n",
    "%autoreload 2\n",
    "\n",
    "init_df_state(0).drop(columns=[\"grid_iv\"])"
   ]
  },
  {
   "cell_type": "code",
   "execution_count": 2,
   "metadata": {},
   "outputs": [
    {
     "name": "stdout",
     "output_type": "stream",
     "text": [
      "The autoreload extension is already loaded. To reload it, use:\n",
      "  %reload_ext autoreload\n"
     ]
    },
    {
     "ename": "AttributeError",
     "evalue": "'Site' object has no attribute 'to_df_state'",
     "output_type": "error",
     "traceback": [
      "\u001b[0;31m---------------------------------------------------------------------------\u001b[0m",
      "\u001b[0;31mAttributeError\u001b[0m                            Traceback (most recent call last)",
      "Cell \u001b[0;32mIn[2], line 16\u001b[0m\n\u001b[1;32m     14\u001b[0m \u001b[38;5;66;03m# Create SUEWSConfig object\u001b[39;00m\n\u001b[1;32m     15\u001b[0m suews_config \u001b[38;5;241m=\u001b[39m SUEWSConfig(\u001b[38;5;241m*\u001b[39m\u001b[38;5;241m*\u001b[39myaml_config[\u001b[38;5;241m0\u001b[39m])\n\u001b[0;32m---> 16\u001b[0m \u001b[43msuews_config\u001b[49m\u001b[38;5;241;43m.\u001b[39;49m\u001b[43msite\u001b[49m\u001b[43m[\u001b[49m\u001b[38;5;241;43m0\u001b[39;49m\u001b[43m]\u001b[49m\u001b[38;5;241;43m.\u001b[39;49m\u001b[43mto_df_state\u001b[49m(\u001b[38;5;241m0\u001b[39m)\n\u001b[1;32m     18\u001b[0m \u001b[38;5;66;03m#suews_config.site[0].properties.land_cover.dectr.lai.to_df_state(2,2)\u001b[39;00m\n\u001b[1;32m     19\u001b[0m \u001b[38;5;66;03m#suews_config.site[0].properties.land_cover.dectr.to_df_state(0).filter(like='lai')\u001b[39;00m\n\u001b[1;32m     20\u001b[0m \u001b[38;5;66;03m#suews_config.site[0].initial_states.dectr.wu.to_df_state(0)\u001b[39;00m\n\u001b[0;32m   (...)\u001b[0m\n\u001b[1;32m     26\u001b[0m \u001b[38;5;66;03m# sfc_props.set_surface_type(SurfaceType.PAVED)\u001b[39;00m\n\u001b[1;32m     27\u001b[0m \u001b[38;5;66;03m# sfc_props.to_df_state(0)\u001b[39;00m\n",
      "File \u001b[0;32m/opt/homebrew/Caskroom/miniforge/base/envs/suews-dev/lib/python3.12/site-packages/pydantic/main.py:856\u001b[0m, in \u001b[0;36mBaseModel.__getattr__\u001b[0;34m(self, item)\u001b[0m\n\u001b[1;32m    853\u001b[0m     \u001b[38;5;28;01mreturn\u001b[39;00m \u001b[38;5;28msuper\u001b[39m()\u001b[38;5;241m.\u001b[39m\u001b[38;5;21m__getattribute__\u001b[39m(item)  \u001b[38;5;66;03m# Raises AttributeError if appropriate\u001b[39;00m\n\u001b[1;32m    854\u001b[0m \u001b[38;5;28;01melse\u001b[39;00m:\n\u001b[1;32m    855\u001b[0m     \u001b[38;5;66;03m# this is the current error\u001b[39;00m\n\u001b[0;32m--> 856\u001b[0m     \u001b[38;5;28;01mraise\u001b[39;00m \u001b[38;5;167;01mAttributeError\u001b[39;00m(\u001b[38;5;124mf\u001b[39m\u001b[38;5;124m'\u001b[39m\u001b[38;5;132;01m{\u001b[39;00m\u001b[38;5;28mtype\u001b[39m(\u001b[38;5;28mself\u001b[39m)\u001b[38;5;241m.\u001b[39m\u001b[38;5;18m__name__\u001b[39m\u001b[38;5;132;01m!r}\u001b[39;00m\u001b[38;5;124m object has no attribute \u001b[39m\u001b[38;5;132;01m{\u001b[39;00mitem\u001b[38;5;132;01m!r}\u001b[39;00m\u001b[38;5;124m'\u001b[39m)\n",
      "\u001b[0;31mAttributeError\u001b[0m: 'Site' object has no attribute 'to_df_state'"
     ]
    }
   ],
   "source": [
    "\n",
    "import yaml\n",
    "import pandas as pd\n",
    "from def_config_suews import SUEWSConfig,init_df_state\n",
    "\n",
    "%load_ext autoreload\n",
    "%autoreload 2\n",
    "\n",
    "\n",
    "# Load YAML config\n",
    "with open('./config-suews.yml', 'r') as file:\n",
    "    yaml_config = yaml.safe_load(file)\n",
    "\n",
    "\n",
    "# Create SUEWSConfig object\n",
    "suews_config = SUEWSConfig(**yaml_config[0])\n",
    "suews_config.site[0].to_df_state(0)\n",
    "\n",
    "#suews_config.site[0].properties.land_cover.dectr.lai.to_df_state(2,2)\n",
    "#suews_config.site[0].properties.land_cover.dectr.to_df_state(0).filter(like='lai')\n",
    "#suews_config.site[0].initial_states.dectr.wu.to_df_state(0)\n",
    "\n",
    "\n",
    "\n",
    "# from def_config_suews import SurfaceProperties, SurfaceType\n",
    "# sfc_props = SurfaceProperties()\n",
    "# sfc_props.set_surface_type(SurfaceType.PAVED)\n",
    "# sfc_props.to_df_state(0)\n"
   ]
  },
  {
   "cell_type": "code",
   "execution_count": 14,
   "metadata": {},
   "outputs": [
    {
     "data": {
      "text/html": [
       "<div>\n",
       "<style scoped>\n",
       "    .dataframe tbody tr th:only-of-type {\n",
       "        vertical-align: middle;\n",
       "    }\n",
       "\n",
       "    .dataframe tbody tr th {\n",
       "        vertical-align: top;\n",
       "    }\n",
       "\n",
       "    .dataframe thead tr th {\n",
       "        text-align: left;\n",
       "    }\n",
       "\n",
       "    .dataframe thead tr:last-of-type th {\n",
       "        text-align: right;\n",
       "    }\n",
       "</style>\n",
       "<table border=\"1\" class=\"dataframe\">\n",
       "  <thead>\n",
       "    <tr>\n",
       "      <th>var</th>\n",
       "      <th>grid_iv</th>\n",
       "      <th>netradiationmethod</th>\n",
       "      <th>emissionsmethod</th>\n",
       "      <th>storageheatmethod</th>\n",
       "      <th>ohmincqf</th>\n",
       "      <th>roughlenmommethod</th>\n",
       "      <th>roughlenheatmethod</th>\n",
       "      <th>stabilitymethod</th>\n",
       "      <th>smdmethod</th>\n",
       "      <th>waterusemethod</th>\n",
       "      <th>diagmethod</th>\n",
       "      <th>faimethod</th>\n",
       "      <th>localclimatemethod</th>\n",
       "      <th>snowuse</th>\n",
       "    </tr>\n",
       "    <tr>\n",
       "      <th>ind_dim</th>\n",
       "      <th>0</th>\n",
       "      <th>0</th>\n",
       "      <th>0</th>\n",
       "      <th>0</th>\n",
       "      <th>0</th>\n",
       "      <th>0</th>\n",
       "      <th>0</th>\n",
       "      <th>0</th>\n",
       "      <th>0</th>\n",
       "      <th>0</th>\n",
       "      <th>0</th>\n",
       "      <th>0</th>\n",
       "      <th>0</th>\n",
       "      <th>0</th>\n",
       "    </tr>\n",
       "    <tr>\n",
       "      <th>grid</th>\n",
       "      <th></th>\n",
       "      <th></th>\n",
       "      <th></th>\n",
       "      <th></th>\n",
       "      <th></th>\n",
       "      <th></th>\n",
       "      <th></th>\n",
       "      <th></th>\n",
       "      <th></th>\n",
       "      <th></th>\n",
       "      <th></th>\n",
       "      <th></th>\n",
       "      <th></th>\n",
       "      <th></th>\n",
       "    </tr>\n",
       "  </thead>\n",
       "  <tbody>\n",
       "    <tr>\n",
       "      <th>0</th>\n",
       "      <td>0</td>\n",
       "      <td>3.0</td>\n",
       "      <td>2.0</td>\n",
       "      <td>1.0</td>\n",
       "      <td>1.0</td>\n",
       "      <td>2.0</td>\n",
       "      <td>2.0</td>\n",
       "      <td>3.0</td>\n",
       "      <td>0.0</td>\n",
       "      <td>0.0</td>\n",
       "      <td>2.0</td>\n",
       "      <td>0.0</td>\n",
       "      <td>0.0</td>\n",
       "      <td>0.0</td>\n",
       "    </tr>\n",
       "  </tbody>\n",
       "</table>\n",
       "</div>"
      ],
      "text/plain": [
       "var     grid_iv netradiationmethod emissionsmethod storageheatmethod ohmincqf  \\\n",
       "ind_dim       0                  0               0                 0        0   \n",
       "grid                                                                            \n",
       "0             0                3.0             2.0               1.0      1.0   \n",
       "\n",
       "var     roughlenmommethod roughlenheatmethod stabilitymethod smdmethod  \\\n",
       "ind_dim                 0                  0               0         0   \n",
       "grid                                                                     \n",
       "0                     2.0                2.0             3.0       0.0   \n",
       "\n",
       "var     waterusemethod diagmethod faimethod localclimatemethod snowuse  \n",
       "ind_dim              0          0         0                  0       0  \n",
       "grid                                                                    \n",
       "0                  0.0        2.0       0.0                0.0     0.0  "
      ]
     },
     "execution_count": 14,
     "metadata": {},
     "output_type": "execute_result"
    }
   ],
   "source": [
    "suews_config.model.control.to_df_state(0)\n",
    "suews_config.model.physics.to_df_state(0)"
   ]
  },
  {
   "cell_type": "code",
   "execution_count": 60,
   "metadata": {},
   "outputs": [
    {
     "data": {
      "text/html": [
       "<div>\n",
       "<style scoped>\n",
       "    .dataframe tbody tr th:only-of-type {\n",
       "        vertical-align: middle;\n",
       "    }\n",
       "\n",
       "    .dataframe tbody tr th {\n",
       "        vertical-align: top;\n",
       "    }\n",
       "\n",
       "    .dataframe thead tr th {\n",
       "        text-align: left;\n",
       "    }\n",
       "\n",
       "    .dataframe thead tr:last-of-type th {\n",
       "        text-align: right;\n",
       "    }\n",
       "</style>\n",
       "<table border=\"1\" class=\"dataframe\">\n",
       "  <thead>\n",
       "    <tr>\n",
       "      <th>var</th>\n",
       "      <th colspan=\"3\" halign=\"left\">laimax</th>\n",
       "      <th colspan=\"3\" halign=\"left\">laimin</th>\n",
       "      <th colspan=\"9\" halign=\"left\">laipower</th>\n",
       "      <th colspan=\"3\" halign=\"left\">laitype</th>\n",
       "      <th colspan=\"3\" halign=\"left\">lai_id</th>\n",
       "    </tr>\n",
       "    <tr>\n",
       "      <th>ind_dim</th>\n",
       "      <th>(0,)</th>\n",
       "      <th>(1,)</th>\n",
       "      <th>(2,)</th>\n",
       "      <th>(0,)</th>\n",
       "      <th>(1,)</th>\n",
       "      <th>(2,)</th>\n",
       "      <th>(0, 0)</th>\n",
       "      <th>(0, 1)</th>\n",
       "      <th>(0, 2)</th>\n",
       "      <th>(1, 0)</th>\n",
       "      <th>...</th>\n",
       "      <th>(2, 2)</th>\n",
       "      <th>(3, 0)</th>\n",
       "      <th>(3, 1)</th>\n",
       "      <th>(3, 2)</th>\n",
       "      <th>(0,)</th>\n",
       "      <th>(1,)</th>\n",
       "      <th>(2,)</th>\n",
       "      <th>(0,)</th>\n",
       "      <th>(1,)</th>\n",
       "      <th>(2,)</th>\n",
       "    </tr>\n",
       "    <tr>\n",
       "      <th>grid</th>\n",
       "      <th></th>\n",
       "      <th></th>\n",
       "      <th></th>\n",
       "      <th></th>\n",
       "      <th></th>\n",
       "      <th></th>\n",
       "      <th></th>\n",
       "      <th></th>\n",
       "      <th></th>\n",
       "      <th></th>\n",
       "      <th></th>\n",
       "      <th></th>\n",
       "      <th></th>\n",
       "      <th></th>\n",
       "      <th></th>\n",
       "      <th></th>\n",
       "      <th></th>\n",
       "      <th></th>\n",
       "      <th></th>\n",
       "      <th></th>\n",
       "      <th></th>\n",
       "    </tr>\n",
       "  </thead>\n",
       "  <tbody>\n",
       "    <tr>\n",
       "      <th>1</th>\n",
       "      <td>5.1</td>\n",
       "      <td>5.5</td>\n",
       "      <td>5.9</td>\n",
       "      <td>4.0</td>\n",
       "      <td>1.0</td>\n",
       "      <td>1.6</td>\n",
       "      <td>0.04</td>\n",
       "      <td>0.04</td>\n",
       "      <td>0.04</td>\n",
       "      <td>0.001</td>\n",
       "      <td>...</td>\n",
       "      <td>-1.5</td>\n",
       "      <td>0.0015</td>\n",
       "      <td>0.0015</td>\n",
       "      <td>0.0015</td>\n",
       "      <td>1.0</td>\n",
       "      <td>1.0</td>\n",
       "      <td>1.0</td>\n",
       "      <td>4.0</td>\n",
       "      <td>1.0</td>\n",
       "      <td>1.6</td>\n",
       "    </tr>\n",
       "  </tbody>\n",
       "</table>\n",
       "<p>1 rows × 24 columns</p>\n",
       "</div>"
      ],
      "text/plain": [
       "var     laimax           laimin           laipower                       ...  \\\n",
       "ind_dim   (0,) (1,) (2,)   (0,) (1,) (2,)   (0, 0) (0, 1) (0, 2) (1, 0)  ...   \n",
       "grid                                                                     ...   \n",
       "1          5.1  5.5  5.9    4.0  1.0  1.6     0.04   0.04   0.04  0.001  ...   \n",
       "\n",
       "var                                    laitype           lai_id            \n",
       "ind_dim (2, 2)  (3, 0)  (3, 1)  (3, 2)    (0,) (1,) (2,)   (0,) (1,) (2,)  \n",
       "grid                                                                       \n",
       "1         -1.5  0.0015  0.0015  0.0015     1.0  1.0  1.0    4.0  1.0  1.6  \n",
       "\n",
       "[1 rows x 24 columns]"
      ]
     },
     "execution_count": 60,
     "metadata": {},
     "output_type": "execute_result"
    }
   ],
   "source": [
    "df_state=pd.read_pickle('df_state.pkl')\n",
    "df_state.filter(like='lai')"
   ]
  },
  {
   "cell_type": "code",
   "execution_count": 5,
   "metadata": {},
   "outputs": [
    {
     "data": {
      "text/html": [
       "<div>\n",
       "<style scoped>\n",
       "    .dataframe tbody tr th:only-of-type {\n",
       "        vertical-align: middle;\n",
       "    }\n",
       "\n",
       "    .dataframe tbody tr th {\n",
       "        vertical-align: top;\n",
       "    }\n",
       "\n",
       "    .dataframe thead tr th {\n",
       "        text-align: left;\n",
       "    }\n",
       "\n",
       "    .dataframe thead tr:last-of-type th {\n",
       "        text-align: right;\n",
       "    }\n",
       "</style>\n",
       "<table border=\"1\" class=\"dataframe\">\n",
       "  <thead>\n",
       "    <tr>\n",
       "      <th>var</th>\n",
       "      <th colspan=\"2\" halign=\"left\">ah_min</th>\n",
       "      <th colspan=\"2\" halign=\"left\">ah_slope_cooling</th>\n",
       "      <th colspan=\"2\" halign=\"left\">ah_slope_heating</th>\n",
       "      <th colspan=\"4\" halign=\"left\">ahprof_24hr</th>\n",
       "      <th>...</th>\n",
       "      <th colspan=\"3\" halign=\"left\">tsfc_wall</th>\n",
       "      <th colspan=\"7\" halign=\"left\">tsfc_surf</th>\n",
       "    </tr>\n",
       "    <tr>\n",
       "      <th>ind_dim</th>\n",
       "      <th>(0,)</th>\n",
       "      <th>(1,)</th>\n",
       "      <th>(0,)</th>\n",
       "      <th>(1,)</th>\n",
       "      <th>(0,)</th>\n",
       "      <th>(1,)</th>\n",
       "      <th>(0, 0)</th>\n",
       "      <th>(0, 1)</th>\n",
       "      <th>(1, 0)</th>\n",
       "      <th>(1, 1)</th>\n",
       "      <th>...</th>\n",
       "      <th>(0,)</th>\n",
       "      <th>(1,)</th>\n",
       "      <th>(2,)</th>\n",
       "      <th>(0,)</th>\n",
       "      <th>(1,)</th>\n",
       "      <th>(2,)</th>\n",
       "      <th>(3,)</th>\n",
       "      <th>(4,)</th>\n",
       "      <th>(5,)</th>\n",
       "      <th>(6,)</th>\n",
       "    </tr>\n",
       "    <tr>\n",
       "      <th>grid</th>\n",
       "      <th></th>\n",
       "      <th></th>\n",
       "      <th></th>\n",
       "      <th></th>\n",
       "      <th></th>\n",
       "      <th></th>\n",
       "      <th></th>\n",
       "      <th></th>\n",
       "      <th></th>\n",
       "      <th></th>\n",
       "      <th></th>\n",
       "      <th></th>\n",
       "      <th></th>\n",
       "      <th></th>\n",
       "      <th></th>\n",
       "      <th></th>\n",
       "      <th></th>\n",
       "      <th></th>\n",
       "      <th></th>\n",
       "      <th></th>\n",
       "      <th></th>\n",
       "    </tr>\n",
       "  </thead>\n",
       "  <tbody>\n",
       "    <tr>\n",
       "      <th>1</th>\n",
       "      <td>15.0</td>\n",
       "      <td>15.0</td>\n",
       "      <td>2.7</td>\n",
       "      <td>2.7</td>\n",
       "      <td>2.7</td>\n",
       "      <td>2.7</td>\n",
       "      <td>0.57</td>\n",
       "      <td>0.1</td>\n",
       "      <td>0.45</td>\n",
       "      <td>0.1</td>\n",
       "      <td>...</td>\n",
       "      <td>10.0</td>\n",
       "      <td>10.0</td>\n",
       "      <td>10.0</td>\n",
       "      <td>10.0</td>\n",
       "      <td>10.0</td>\n",
       "      <td>10.0</td>\n",
       "      <td>10.0</td>\n",
       "      <td>10.0</td>\n",
       "      <td>10.0</td>\n",
       "      <td>10.0</td>\n",
       "    </tr>\n",
       "  </tbody>\n",
       "</table>\n",
       "<p>1 rows × 1288 columns</p>\n",
       "</div>"
      ],
      "text/plain": [
       "var     ah_min       ah_slope_cooling      ah_slope_heating      ahprof_24hr  \\\n",
       "ind_dim   (0,)  (1,)             (0,) (1,)             (0,) (1,)      (0, 0)   \n",
       "grid                                                                           \n",
       "1         15.0  15.0              2.7  2.7              2.7  2.7        0.57   \n",
       "\n",
       "var                           ... tsfc_wall             tsfc_surf              \\\n",
       "ind_dim (0, 1) (1, 0) (1, 1)  ...      (0,)  (1,)  (2,)      (0,)  (1,)  (2,)   \n",
       "grid                          ...                                               \n",
       "1          0.1   0.45    0.1  ...      10.0  10.0  10.0      10.0  10.0  10.0   \n",
       "\n",
       "var                              \n",
       "ind_dim  (3,)  (4,)  (5,)  (6,)  \n",
       "grid                             \n",
       "1        10.0  10.0  10.0  10.0  \n",
       "\n",
       "[1 rows x 1288 columns]"
      ]
     },
     "execution_count": 5,
     "metadata": {},
     "output_type": "execute_result"
    }
   ],
   "source": [
    "df_state_test"
   ]
  },
  {
   "cell_type": "code",
   "execution_count": 14,
   "metadata": {},
   "outputs": [
    {
     "data": {
      "text/plain": [
       "LUMPSParams(raincover=0.25, rainmaxres=0.25, drainrt=0.25, veg_type=1)"
      ]
     },
     "execution_count": 14,
     "metadata": {},
     "output_type": "execute_result"
    },
    {
     "name": "stdout",
     "output_type": "stream",
     "text": [
      "{}\n"
     ]
    },
    {
     "data": {
      "text/plain": [
       "LUMPSParams(raincover=0.5, rainmaxres=0.5, drainrt=0.5, veg_type=1)"
      ]
     },
     "execution_count": 14,
     "metadata": {},
     "output_type": "execute_result"
    }
   ],
   "source": [
    "df_state_test=pd.read_pickle('df_state_test.pkl')\n",
    "\n",
    "from def_config_suews import LUMPSParams\n",
    "LUMPSParams()\n",
    "LUMPSParams.from_df_state(df_state_test,1)\n",
    "\n"
   ]
  },
  {
   "cell_type": "code",
   "execution_count": null,
   "metadata": {},
   "outputs": [],
   "source": []
  }
 ],
 "metadata": {
  "kernelspec": {
   "display_name": "suews-dev-issue299",
   "language": "python",
   "name": "python3"
  },
  "language_info": {
   "codemirror_mode": {
    "name": "ipython",
    "version": 3
   },
   "file_extension": ".py",
   "mimetype": "text/x-python",
   "name": "python",
   "nbconvert_exporter": "python",
   "pygments_lexer": "ipython3",
   "version": "3.12.7"
  }
 },
 "nbformat": 4,
 "nbformat_minor": 2
}
